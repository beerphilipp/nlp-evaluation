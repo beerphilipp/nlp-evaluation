{
 "cells": [
  {
   "cell_type": "code",
   "execution_count": 1,
   "id": "ecbd2758-dfef-4747-8ccd-364d5cc55d09",
   "metadata": {
    "tags": []
   },
   "outputs": [
    {
     "name": "stderr",
     "output_type": "stream",
     "text": [
      "[nltk_data] Downloading package stopwords to\n",
      "[nltk_data]     /Users/beerphilipp/nltk_data...\n",
      "[nltk_data]   Package stopwords is already up-to-date!\n",
      "[nltk_data] Downloading package punkt to\n",
      "[nltk_data]     /Users/beerphilipp/nltk_data...\n",
      "[nltk_data]   Package punkt is already up-to-date!\n"
     ]
    }
   ],
   "source": [
    "import os\n",
    "import pandas as pd\n",
    "import nltk\n",
    "\n",
    "from nltk.corpus import stopwords\n",
    "from nltk.tokenize import word_tokenize\n",
    "from datetime import datetime\n",
    "\n",
    "nltk.download('stopwords')\n",
    "nltk.download('punkt')\n",
    "\n",
    "INPUT_DATA_DIR = \"../data/input\"\n",
    "OUTPUT_DATA_DIR = \"../data/output\"\n",
    "\n",
    "GP_DATA_NAME = \"gplay/gplay_reviews.csv\"\n",
    "AMAZON_DATA_NAME = \"amazon/amazon_reviews.csv\"\n",
    "\n",
    "GP_INPUT_DATA = os.path.join(INPUT_DATA_DIR, GP_DATA_NAME)\n",
    "AMAZON_INPUT_DATA = os.path.join(INPUT_DATA_DIR, AMAZON_DATA_NAME)\n",
    "\n",
    "current_date = datetime.today().strftime('%Y%m%d')\n",
    "INTERMEDIARY_CSV = os.path.join(OUTPUT_DATA_DIR, current_date + \"_merged_preprocessed.csv\")"
   ]
  },
  {
   "attachments": {},
   "cell_type": "markdown",
   "id": "003682a4",
   "metadata": {},
   "source": [
    "# Merge the Google Play Store and Amazon datasets"
   ]
  },
  {
   "cell_type": "code",
   "execution_count": 2,
   "id": "f8146866-d66e-4352-ac9e-7367e8caba2b",
   "metadata": {
    "tags": []
   },
   "outputs": [],
   "source": [
    "gp = pd.read_csv(GP_INPUT_DATA, usecols=['CleanedStop_review_body1', 'current_rating'])\n",
    "gp.rename(columns={'CleanedStop_review_body1': 'text', 'current_rating': 'rating'}, inplace=True)\n",
    "gp['source'] = 'GP'\n",
    "\n",
    "am = pd.read_csv(AMAZON_INPUT_DATA, usecols=['Review_text', 'Rating'])\n",
    "am.rename(columns={'Review_text': 'text', 'Rating': 'rating'}, inplace=True)\n",
    "am['source'] = 'Amazon'\n",
    "\n",
    "merged = pd.concat([gp, am], ignore_index=True)"
   ]
  },
  {
   "attachments": {},
   "cell_type": "markdown",
   "id": "c1699c20",
   "metadata": {},
   "source": [
    "# Filter stopwords using `ntlk`"
   ]
  },
  {
   "cell_type": "code",
   "execution_count": 3,
   "id": "5fc73b8f",
   "metadata": {},
   "outputs": [],
   "source": [
    "stop_words = set(stopwords.words('english'))\n",
    "\n",
    "def clean_text(row):\n",
    "    text = str(row['text'])\n",
    "    tokens = word_tokenize(text)\n",
    "    filtered = [w for w in tokens if not w.lower() in stop_words]\n",
    "    return filtered\n",
    "\n",
    "merged['cleaned_text'] = merged.apply(clean_text, axis = 1)"
   ]
  },
  {
   "attachments": {},
   "cell_type": "markdown",
   "id": "3773ee4b",
   "metadata": {},
   "source": [
    "# Save the result to `data/ouput/[yyyymmdd]_merged_preprocessed.csv`"
   ]
  },
  {
   "cell_type": "code",
   "execution_count": 4,
   "id": "3f36b4ac",
   "metadata": {},
   "outputs": [],
   "source": [
    "merged.to_csv(INTERMEDIARY_CSV, index=False)"
   ]
  }
 ],
 "metadata": {
  "kernelspec": {
   "display_name": "Python 3 (ipykernel)",
   "language": "python",
   "name": "python3"
  },
  "language_info": {
   "codemirror_mode": {
    "name": "ipython",
    "version": 3
   },
   "file_extension": ".py",
   "mimetype": "text/x-python",
   "name": "python",
   "nbconvert_exporter": "python",
   "pygments_lexer": "ipython3",
   "version": "3.9.6"
  }
 },
 "nbformat": 4,
 "nbformat_minor": 5
}
